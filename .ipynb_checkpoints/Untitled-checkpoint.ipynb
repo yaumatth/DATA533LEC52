{
 "cells": [
  {
   "cell_type": "code",
   "execution_count": 7,
   "id": "645fd359-4a35-4dfe-9502-c548a53b5d09",
   "metadata": {},
   "outputs": [
    {
     "name": "stderr",
     "output_type": "stream",
     "text": [
      "test_max (__main__.testMax) ... ok\n",
      "\n",
      "----------------------------------------------------------------------\n",
      "Ran 1 test in 0.002s\n",
      "\n",
      "OK\n"
     ]
    },
    {
     "data": {
      "text/plain": [
       "<unittest.main.TestProgram at 0x7fada000a610>"
      ]
     },
     "execution_count": 7,
     "metadata": {},
     "output_type": "execute_result"
    }
   ],
   "source": [
    "import unittest\n",
    "import maxnum as theMax\n",
    "class testMax(unittest.TestCase): # test class\n",
    "    def test_max(self): \n",
    "        self.assertEqual(theMax.theFunction(2, 1), 2)\n",
    "        self.assertEqual(theMax.theFunction(5, 1), 5)\n",
    "        self.assertEqual(theMax.theFunction(10, 12), 12)        \n",
    "unittest.main(argv=[''], verbosity=2, exit=False)\n",
    "\n",
    " "
   ]
  },
  {
   "cell_type": "code",
   "execution_count": null,
   "id": "d41bf2a4-5d6d-49f6-8d20-c9ac0ceea3e9",
   "metadata": {},
   "outputs": [],
   "source": []
  }
 ],
 "metadata": {
  "kernelspec": {
   "display_name": "Python 3 (ipykernel)",
   "language": "python",
   "name": "python3"
  },
  "language_info": {
   "codemirror_mode": {
    "name": "ipython",
    "version": 3
   },
   "file_extension": ".py",
   "mimetype": "text/x-python",
   "name": "python",
   "nbconvert_exporter": "python",
   "pygments_lexer": "ipython3",
   "version": "3.9.12"
  }
 },
 "nbformat": 4,
 "nbformat_minor": 5
}
